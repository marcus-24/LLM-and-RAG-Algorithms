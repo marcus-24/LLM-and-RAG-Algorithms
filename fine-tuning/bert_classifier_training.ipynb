{
 "cells": [
  {
   "cell_type": "markdown",
   "metadata": {},
   "source": [
    "# Objective\n",
    "This code demostrates how to take Google's BERT Large Language Model (LLM) and fine tune it to classify movie reviews as positive or negative (aka sentiment analysis)."
   ]
  },
  {
   "cell_type": "markdown",
   "metadata": {},
   "source": [
    "# Check Runtime and Install Python Dependencies if needed"
   ]
  },
  {
   "cell_type": "code",
   "execution_count": 2,
   "metadata": {},
   "outputs": [
    {
     "name": "stdout",
     "output_type": "stream",
     "text": [
      "Not running in Google Colab\n"
     ]
    }
   ],
   "source": [
    "import sys\n",
    "import os\n",
    "\n",
    "IN_COLAB = 'google.colab' in sys.modules\n",
    "\n",
    "if IN_COLAB:\n",
    "    print(\"Running in Google Colab and installing dependencies\")\n",
    "    os.system('pip install -r ../requirements.txt')\n",
    "else:\n",
    "    print(\"Not running in Google Colab\")"
   ]
  },
  {
   "cell_type": "markdown",
   "metadata": {},
   "source": [
    "# Load Libraries"
   ]
  },
  {
   "cell_type": "code",
   "execution_count": null,
   "metadata": {},
   "outputs": [],
   "source": [
    "from dotenv import load_dotenv\n",
    "from transformers import (\n",
    "    BertTokenizer,\n",
    "    BertForSequenceClassification,\n",
    "    Trainer,\n",
    "    TrainingArguments,\n",
    ")\n",
    "from datasets import load_dataset\n",
    "import os\n",
    "\n",
    "os.environ[\"WANDB_DISABLED\"] = \"true\"  # disable W&B account login on google colab\n",
    "\n",
    "# Reference for script: https://bhavikjikadara.medium.com/transfer-learning-step-by-step-implementation-using-hugging-face-824de8aa8afd\n",
    "# transformers are the NN architecture where there's a combination of attention and multilayer perception layers."
   ]
  },
  {
   "cell_type": "markdown",
   "metadata": {},
   "source": [
    "# Load pretrained model"
   ]
  },
  {
   "cell_type": "code",
   "execution_count": null,
   "metadata": {},
   "outputs": [],
   "source": [
    "# load pre-trained tokenizer from BERT Uncased (upper/lower case doesnt matter)\n",
    "model_name = \"google-bert/bert-base-uncased\"\n",
    "tokenizer = BertTokenizer.from_pretrained(model_name)\n",
    "\n",
    "# Load Bert Model with added sequnce classification layer at the end\n",
    "# num_labels = Number of labels to use in the last layer added to the model, typically for a classification task.\n",
    "model = BertForSequenceClassification.from_pretrained(\n",
    "    model_name, num_labels=2, device_map=\"cuda\"\n",
    ")  # labels in data below are 0 (neg) and 1 (pos)"
   ]
  },
  {
   "cell_type": "markdown",
   "metadata": {},
   "source": [
    "# Load and process data"
   ]
  },
  {
   "cell_type": "code",
   "execution_count": null,
   "metadata": {},
   "outputs": [],
   "source": [
    "train_dataset = load_dataset(\n",
    "    \"stanfordnlp/imdb\", split=\"train[:1%]\"\n",
    ")  # load IMDB movie reviews\n",
    "\n",
    "test_dataset = load_dataset(\n",
    "    \"stanfordnlp/imdb\", split=\"test[:1%]\"\n",
    ")  # load IMDB movie reviews\n",
    "\n",
    "# set to pad and truncate at max length of model\n",
    "tokenized_train_datasets = train_dataset.map(\n",
    "    lambda examples: tokenizer(examples[\"text\"], padding=\"max_length\", truncation=True),\n",
    "    batched=True,\n",
    ")  # output batches of data rather than single samples\n",
    "\n",
    "tokenized_test_datasets = test_dataset.map(\n",
    "    lambda examples: tokenizer(examples[\"text\"], padding=\"max_length\", truncation=True),\n",
    "    batched=True,\n",
    ")  # output batches of data rather than single samples"
   ]
  },
  {
   "cell_type": "markdown",
   "metadata": {},
   "source": [
    "# Train the model"
   ]
  },
  {
   "cell_type": "code",
   "execution_count": null,
   "metadata": {},
   "outputs": [],
   "source": [
    "# The training classes below are used as pytorch wrappers to train the model on multiple GPUs/TPUs\n",
    "\n",
    "# Define training arguments\n",
    "training_args = TrainingArguments(\n",
    "    output_dir=\"./results\",  # where model preds and checkpoints are saved\n",
    "    evaluation_strategy=\"epoch\",  # model eval is done at end of each epoch\n",
    "    per_device_train_batch_size=16,  # batch size for train data per GPU/TPU etc.\n",
    "    per_device_eval_batch_size=16,  # batch size for eval data per GPU/TPU etc.\n",
    "    num_train_epochs=1,  # num of training epochs\n",
    "    weight_decay=0.01,  # apply weight decay as regularization to prevent over training due to large weights\n",
    "    max_steps=2,  # the total number of training steps to perform.\n",
    "    run_name=\"Marcus Run\",\n",
    ")\n",
    "# Define the Trainer\n",
    "trainer = Trainer(\n",
    "    model=model,\n",
    "    args=training_args,\n",
    "    train_dataset=tokenized_train_datasets,\n",
    "    eval_dataset=tokenized_test_datasets,\n",
    ")\n",
    "# Train the model\n",
    "trainer.train()\n",
    "\n",
    "# Evaluate the model\n",
    "eval_results = trainer.evaluate()\n",
    "print(f\"Evaluation results: {eval_results}\")\n",
    "\n",
    "# Save the model and tokenizer\n",
    "model.save_pretrained(\"./fine-tuned-bert\")\n",
    "# tokenizer.save_pretrained(\"./fine-tuned-bert\")\n"
   ]
  }
 ],
 "metadata": {
  "kernelspec": {
   "display_name": "llm_env",
   "language": "python",
   "name": "python3"
  },
  "language_info": {
   "codemirror_mode": {
    "name": "ipython",
    "version": 3
   },
   "file_extension": ".py",
   "mimetype": "text/x-python",
   "name": "python",
   "nbconvert_exporter": "python",
   "pygments_lexer": "ipython3",
   "version": "3.13.1"
  }
 },
 "nbformat": 4,
 "nbformat_minor": 2
}
